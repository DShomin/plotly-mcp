{
 "cells": [
  {
   "cell_type": "markdown",
   "metadata": {},
   "source": [
    "# PlotlyMCP Demonstration Notebook"
   ]
  },
  {
   "cell_type": "markdown",
   "metadata": {},
   "source": [
    "This notebook demonstrates the usage of the `PlotlyMCP` class from `plot_tools.py`."
   ]
  },
  {
   "cell_type": "markdown",
   "metadata": {},
   "source": [
    "## 1. Import necessary modules"
   ]
  },
  {
   "cell_type": "code",
   "execution_count": null,
   "metadata": {},
   "outputs": [],
   "source": [
    "from plot_tools import PlotlyMCP\n",
    "import pandas as pd\n",
    "import plotly.io as pio\n",
    "\n",
    "# Set Plotly to render in notebook mode. This is important for figures to display.\n",
    "# Common options: 'notebook', 'jupyterlab', 'colab', 'vscode', 'png', 'svg', 'browser'\n",
    "# If 'notebook' doesn't work, try others based on your environment.\n",
    "pio.renderers.default = 'notebook'"
   ]
  },
  {
   "cell_type": "markdown",
   "metadata": {},
   "source": [
    "## 2. Initialize PlotlyMCP\n",
    "\n",
    "This will load `plot_desc.json` and `plot_examples.json` if they exist in the same directory."
   ]
  },
  {
   "cell_type": "code",
   "execution_count": null,
   "metadata": {},
   "outputs": [],
   "source": [
    "mcp = PlotlyMCP()\n",
    "# If you see warnings about files not found, ensure plot_desc.json and plot_examples.json are present."
   ]
  },
  {
   "cell_type": "markdown",
   "metadata": {},
   "source": [
    "## 3. Demonstrate `get_plot_description`"
   ]
  },
  {
   "cell_type": "code",
   "execution_count": null,
   "metadata": {},
   "outputs": [],
   "source": [
    "print(\"--- Get Plot Description ---\")\n",
    "print(f\"Bar description: {mcp.get_plot_description('bar')}\")\n",
    "print(f\"Scatter description: {mcp.get_plot_description('scatter')}\")\n",
    "print(f\"Invalid type (e.g., 'pyramid') description: {mcp.get_plot_description('pyramid')}\")"
   ]
  },
  {
   "cell_type": "markdown",
   "metadata": {},
   "source": [
    "## 4. Demonstrate `get_example`"
   ]
  },
  {
   "cell_type": "code",
   "execution_count": null,
   "metadata": {},
   "outputs": [],
   "source": [
    "print(\"--- Get Plot Example ---\")\n",
    "scatter_example = mcp.get_example('scatter')\n",
    "print(f\"Scatter example data: {scatter_example}\")\n",
    "\n",
    "line_example = mcp.get_example('line')\n",
    "print(f\"Line example data: {line_example}\")\n",
    "\n",
    "invalid_example = mcp.get_example('treemap') # Assuming treemap is not in our dummy plot_examples.json\n",
    "print(f\"Invalid type (e.g., 'treemap') example: {invalid_example}\")"
   ]
  },
  {
   "cell_type": "markdown",
   "metadata": {},
   "source": [
    "## 5. Demonstrate `visualize` method"
   ]
  },
  {
   "cell_type": "markdown",
   "metadata": {},
   "source": [
    "### Bar Chart"
   ]
  },
  {
   "cell_type": "code",
   "execution_count": null,
   "metadata": {},
   "outputs": [],
   "source": [
    "sql_result_bar = {\n",
    "    \"columns\": [\"Category\", \"Value\"],\n",
    "    \"data\": [[\"A\", 10], [\"B\", 15], [\"C\", 7], [\"D\", 12]]\n",
    "}\n",
    "fig_bar = mcp.visualize(data=sql_result_bar, plot_type='bar', title='Sample Bar Chart', x_label='Categories', y_label='Values')\n",
    "if fig_bar:\n",
    "    fig_bar.show()"
   ]
  },
  {
   "cell_type": "markdown",
   "metadata": {},
   "source": [
    "### Scatter Plot"
   ]
  },
  {
   "cell_type": "code",
   "execution_count": null,
   "metadata": {},
   "outputs": [],
   "source": [
    "sql_result_scatter = {\n",
    "    \"columns\": [\"X_Coords\", \"Y_Coords\"],\n",
    "    \"data\": [[1,5], [2,2], [3,8], [4,3], [1.5, 6.5], [3.5, 1]]\n",
    "}\n",
    "fig_scatter = mcp.visualize(data=sql_result_scatter, plot_type='scatter', title='Sample Scatter Plot', x_label='X Values', y_label='Y Values')\n",
    "if fig_scatter:\n",
    "    fig_scatter.show()"
   ]
  },
  {
   "cell_type": "markdown",
   "metadata": {},
   "source": [
    "### Line Chart"
   ]
  },
  {
   "cell_type": "code",
   "execution_count": null,
   "metadata": {},
   "outputs": [],
   "source": [
    "sql_result_line = {\n",
    "    \"columns\": [\"Month\", \"Temperature\"],\n",
    "    \"data\": [[\"Jan\", 5], [\"Feb\", 8], [\"Mar\", 12], [\"Apr\", 10], [\"May\", 15]]\n",
    "}\n",
    "fig_line = mcp.visualize(data=sql_result_line, plot_type='line', title='Monthly Temperatures', x_label='Month', y_label='Temperature (°C)')\n",
    "if fig_line:\n",
    "    fig_line.show()"
   ]
  },
  {
   "cell_type": "markdown",
   "metadata": {},
   "source": [
    "### Using `recommend_plot_type` (plot_type=None)\n",
    "\n",
    "The current basic implementation of `recommend_plot_type` in `PlotlyMCP` always returns 'bar'."
   ]
  },
  {
   "cell_type": "code",
   "execution_count": null,
   "metadata": {},
   "outputs": [],
   "source": [
    "sql_result_recommend = {\n",
    "    \"columns\": [\"Product\", \"Sales\"],\n",
    "    \"data\": [[\"Widget A\", 100], [\"Widget B\", 150], [\"Widget C\", 80]]\n",
    "}\n",
    "fig_recommend = mcp.visualize(data=sql_result_recommend, title='Recommended Plot (Bar)') # plot_type is None\n",
    "if fig_recommend:\n",
    "    fig_recommend.show()"
   ]
  },
  {
   "cell_type": "markdown",
   "metadata": {},
   "source": [
    "### Error Case: Insufficient Columns for Bar Chart"
   ]
  },
  {
   "cell_type": "code",
   "execution_count": null,
   "metadata": {},
   "outputs": [],
   "source": [
    "sql_result_error = {\n",
    "    \"columns\": [\"ValueOnly\"],\n",
    "    \"data\": [[10], [20], [30]]\n",
    "}\n",
    "print(\"--- Visualize Error Case ---\")\n",
    "fig_error = mcp.visualize(data=sql_result_error, plot_type='bar', title='Error Case')\n",
    "if fig_error:\n",
    "    fig_error.show()\n",
    "else:\n",
    "    print(\"Visualization returned None, as expected due to error.\")"
   ]
  },
  {
   "cell_type": "markdown",
   "metadata": {},
   "source": [
    "## End of Demonstration"
   ]
  }
 ],
 "metadata": {
  "kernelspec": {
   "display_name": "Python 3",
   "language": "python",
   "name": "python3"
  },
  "language_info": {
   "codemirror_mode": {
    "name": "ipython",
    "version": 3
   },
   "file_extension": ".py",
   "mimetype": "text/x-python",
   "name": "python",
   "nbconvert_exporter": "python",
   "pygments_lexer": "ipython3",
   "version": "3.10.13"
  }
 },
 "nbformat": 4,
 "nbformat_minor": 5
}
